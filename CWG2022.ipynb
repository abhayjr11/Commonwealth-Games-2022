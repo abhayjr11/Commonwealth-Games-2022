{
 "cells": [
  {
   "cell_type": "markdown",
   "id": "2c9e5ec2",
   "metadata": {},
   "source": [
    "# Data Analysis on the Commonwealth Games Birmingham 2022 "
   ]
  },
  {
   "cell_type": "code",
   "execution_count": 6,
   "id": "882bcef5",
   "metadata": {},
   "outputs": [],
   "source": [
    "# Import pandas and numpy\n",
    "import pandas as pd  \n",
    "import matplotlib.pyplot as plt"
   ]
  },
  {
   "cell_type": "code",
   "execution_count": 7,
   "id": "f4bc063d",
   "metadata": {},
   "outputs": [
    {
     "data": {
      "text/html": [
       "<div>\n",
       "<style scoped>\n",
       "    .dataframe tbody tr th:only-of-type {\n",
       "        vertical-align: middle;\n",
       "    }\n",
       "\n",
       "    .dataframe tbody tr th {\n",
       "        vertical-align: top;\n",
       "    }\n",
       "\n",
       "    .dataframe thead th {\n",
       "        text-align: right;\n",
       "    }\n",
       "</style>\n",
       "<table border=\"1\" class=\"dataframe\">\n",
       "  <thead>\n",
       "    <tr style=\"text-align: right;\">\n",
       "      <th></th>\n",
       "      <th>ATHLETE NAME\\t</th>\n",
       "      <th>SPORT</th>\n",
       "      <th>GENDER</th>\n",
       "      <th>AGE</th>\n",
       "      <th>TEAM</th>\n",
       "    </tr>\n",
       "  </thead>\n",
       "  <tbody>\n",
       "    <tr>\n",
       "      <th>0</th>\n",
       "      <td>GregHire</td>\n",
       "      <td>3x3 Basketball</td>\n",
       "      <td>Male</td>\n",
       "      <td>34.0</td>\n",
       "      <td>Australia</td>\n",
       "    </tr>\n",
       "    <tr>\n",
       "      <th>1</th>\n",
       "      <td>Daniel Geoffrey CraigJohnson</td>\n",
       "      <td>3x3 Basketball</td>\n",
       "      <td>Male</td>\n",
       "      <td>34.0</td>\n",
       "      <td>Australia</td>\n",
       "    </tr>\n",
       "    <tr>\n",
       "      <th>2</th>\n",
       "      <td>LaurenMansfield</td>\n",
       "      <td>3x3 Basketball</td>\n",
       "      <td>Female</td>\n",
       "      <td>32.0</td>\n",
       "      <td>Australia</td>\n",
       "    </tr>\n",
       "    <tr>\n",
       "      <th>3</th>\n",
       "      <td>LaurenScherf</td>\n",
       "      <td>3x3 Basketball</td>\n",
       "      <td>Female</td>\n",
       "      <td>26.0</td>\n",
       "      <td>Australia</td>\n",
       "    </tr>\n",
       "    <tr>\n",
       "      <th>4</th>\n",
       "      <td>JesseWagstaff</td>\n",
       "      <td>3x3 Basketball</td>\n",
       "      <td>Male</td>\n",
       "      <td>36.0</td>\n",
       "      <td>Australia</td>\n",
       "    </tr>\n",
       "    <tr>\n",
       "      <th>5</th>\n",
       "      <td>MarenaWhittle</td>\n",
       "      <td>3x3 Basketball</td>\n",
       "      <td>Female</td>\n",
       "      <td>28.0</td>\n",
       "      <td>Australia</td>\n",
       "    </tr>\n",
       "    <tr>\n",
       "      <th>6</th>\n",
       "      <td>AlexWilson</td>\n",
       "      <td>3x3 Basketball</td>\n",
       "      <td>Female</td>\n",
       "      <td>28.0</td>\n",
       "      <td>Australia</td>\n",
       "    </tr>\n",
       "    <tr>\n",
       "      <th>7</th>\n",
       "      <td>TomWright</td>\n",
       "      <td>3x3 Basketball</td>\n",
       "      <td>Male</td>\n",
       "      <td>33.0</td>\n",
       "      <td>Australia</td>\n",
       "    </tr>\n",
       "    <tr>\n",
       "      <th>8</th>\n",
       "      <td>ShauliquaFahie</td>\n",
       "      <td>3x3 Basketball</td>\n",
       "      <td>Female</td>\n",
       "      <td>21.0</td>\n",
       "      <td>British Virgin Is.</td>\n",
       "    </tr>\n",
       "    <tr>\n",
       "      <th>9</th>\n",
       "      <td>MahkaylaPickering</td>\n",
       "      <td>3x3 Basketball</td>\n",
       "      <td>Female</td>\n",
       "      <td>22.0</td>\n",
       "      <td>British Virgin Is.</td>\n",
       "    </tr>\n",
       "  </tbody>\n",
       "</table>\n",
       "</div>"
      ],
      "text/plain": [
       "                 ATHLETE NAME\\t           SPORT  GENDER   AGE  \\\n",
       "0                      GregHire  3x3 Basketball    Male  34.0   \n",
       "1  Daniel Geoffrey CraigJohnson  3x3 Basketball    Male  34.0   \n",
       "2               LaurenMansfield  3x3 Basketball  Female  32.0   \n",
       "3                  LaurenScherf  3x3 Basketball  Female  26.0   \n",
       "4                 JesseWagstaff  3x3 Basketball    Male  36.0   \n",
       "5                 MarenaWhittle  3x3 Basketball  Female  28.0   \n",
       "6                    AlexWilson  3x3 Basketball  Female  28.0   \n",
       "7                     TomWright  3x3 Basketball    Male  33.0   \n",
       "8                ShauliquaFahie  3x3 Basketball  Female  21.0   \n",
       "9             MahkaylaPickering  3x3 Basketball  Female  22.0   \n",
       "\n",
       "                 TEAM  \n",
       "0           Australia  \n",
       "1           Australia  \n",
       "2           Australia  \n",
       "3           Australia  \n",
       "4           Australia  \n",
       "5           Australia  \n",
       "6           Australia  \n",
       "7           Australia  \n",
       "8  British Virgin Is.  \n",
       "9  British Virgin Is.  "
      ]
     },
     "execution_count": 7,
     "metadata": {},
     "output_type": "execute_result"
    }
   ],
   "source": [
    "# load data\n",
    "data=pd.read_csv(\"players.csv\")\n",
    "data.head(10)"
   ]
  },
  {
   "cell_type": "code",
   "execution_count": 8,
   "id": "13dabfaf",
   "metadata": {},
   "outputs": [
    {
     "data": {
      "text/plain": [
       "4533"
      ]
     },
     "execution_count": 8,
     "metadata": {},
     "output_type": "execute_result"
    }
   ],
   "source": [
    "# 1. Total number of records/players participated in Commonwealth Games Birmingham 2022?\n",
    "len(data)"
   ]
  },
  {
   "cell_type": "code",
   "execution_count": 9,
   "id": "c6f56c04",
   "metadata": {
    "scrolled": true
   },
   "outputs": [
    {
     "name": "stdout",
     "output_type": "stream",
     "text": [
      "72 \n",
      " ['Australia' 'British Virgin Is.' 'Canada' 'England' 'Kenya' 'New Zealand'\n",
      " 'Scotland' 'Sri Lanka' 'Trinidad & Tobago' 'Malaysia' 'Northern Ireland'\n",
      " 'South Africa' 'Jamaica' 'Wales' 'Anguilla' 'Antigua & Barbuda'\n",
      " 'Bangladesh' 'Barbados' 'Bermuda' 'Botswana' 'Cameroon' 'Cayman Islands'\n",
      " 'Cook Islands' 'Cyprus' 'Dominica' 'Eswatini' 'Fiji' 'Ghana' 'Gibraltar'\n",
      " 'Grenada' 'Guernsey' 'Guyana' 'India' 'Isle of Man' 'Jersey' 'Malawi'\n",
      " 'Maldives' 'Mauritius' 'Mozambique' 'Namibia' 'Pakistan'\n",
      " 'Papua New Guinea' 'Rwanda' 'Samoa' 'Seychelles' 'Sierra Leone'\n",
      " 'Singapore' 'Solomon Islands' 'St Helena' 'St Lucia'\n",
      " 'St Vinc & Grenadines' 'Tanzania' 'The Bahamas' 'The Gambia' 'Tonga'\n",
      " 'Turks & Caicos Is.' 'Uganda' 'Zambia' 'Belize' 'Kiribati' 'Lesotho'\n",
      " 'Malta' 'Montserrat' 'Nauru' 'Nigeria' 'St Kitts & Nevis' 'Tuvalu'\n",
      " 'Vanuatu' 'Falkland Islands' 'Niue' 'Brunei Darussalam' 'Norfolk Island']\n"
     ]
    }
   ],
   "source": [
    "# 2. Total countries participated and list them down?\n",
    "print(len(data[\"TEAM\"].unique()),\"\\n\",data[\"TEAM\"].unique())"
   ]
  },
  {
   "cell_type": "code",
   "execution_count": 10,
   "id": "92e79f88",
   "metadata": {},
   "outputs": [
    {
     "name": "stdout",
     "output_type": "stream",
     "text": [
      "25 \n",
      " ['3x3 Basketball' '3x3 Wheelchair Basketball' 'Aquatics - Diving'\n",
      " 'Aquatics - Swimming and Para Swimming' 'Athletics and Para Athletics'\n",
      " 'Badminton' 'Beach Volleyball' 'Boxing' 'Cricket T20'\n",
      " 'Cycling - Mountain Bike' 'Cycling - Road'\n",
      " 'Cycling - Track and Para Track' 'Gymnastics - Artistic'\n",
      " 'Gymnastics - Rhythmic' 'Hockey' 'Judo' 'Lawn Bowls and Para Lawn Bowls'\n",
      " 'Netball' 'Para Powerlifting' 'Rugby Sevens' 'Squash'\n",
      " 'Table Tennis and Para Table Tennis' 'Triathlon and Para Triathlon'\n",
      " 'Weightlifting' 'Wrestling']\n"
     ]
    }
   ],
   "source": [
    "# 3. Total games in Commonwealth Games Birmingham 2022 and list them down?\n",
    "print(len(data[\"SPORT\"].unique()),\"\\n\",data[\"SPORT\"].unique())"
   ]
  },
  {
   "cell_type": "code",
   "execution_count": 104,
   "id": "78ff5d74",
   "metadata": {},
   "outputs": [
    {
     "name": "stdout",
     "output_type": "stream",
     "text": [
      "   index         TEAM  Number of players\n",
      "0     16      England                437\n",
      "1      2    Australia                433\n",
      "2     11       Canada                268\n",
      "3     50     Scotland                261\n",
      "4     41  New Zealand                234\n"
     ]
    },
    {
     "data": {
      "image/png": "[encoded data removed]",
      "text/plain": [
       "<Figure size 432x288 with 1 Axes>"
      ]
     },
     "metadata": {
      "needs_background": "light"
     },
     "output_type": "display_data"
    },
    {
     "data": {
      "image/png": "[encoded data removed]",
      "text/plain": [
       "<Figure size 432x288 with 1 Axes>"
      ]
     },
     "metadata": {
      "needs_background": "light"
     },
     "output_type": "display_data"
    }
   ],
   "source": [
    "# 4. Which country has most number of players top 5? (GRAPH : histogram, pie chart)\n",
    "pl=data.groupby([\"TEAM\"]).size().reset_index(name='Number of players')\n",
    "pl5=pl.sort_values(by='Number of players',ascending=False).head(5)\n",
    "print(pl5.reset_index())\n",
    "\n",
    "# graphical:  histogram\n",
    "plt.bar(pl5[\"TEAM\"],pl5[\"Number of players\"])\n",
    "plt.title('Country Vs Number of players')\n",
    "plt.xlabel('Country',fontsize=13)\n",
    "plt.ylabel('Number of players',fontsize=13)\n",
    "plt.show()\n",
    "\n",
    "# graphical : lineplotter\n",
    "plt.plot(pl5[\"TEAM\"],pl5[\"Number of players\"])\n",
    "plt.title('Country Vs Number of players')\n",
    "plt.xlabel('Country',fontsize=13)\n",
    "plt.ylabel('Number of players',fontsize=13)\n",
    "plt.show()"
   ]
  },
  {
   "cell_type": "code",
   "execution_count": 17,
   "id": "c1380c02",
   "metadata": {},
   "outputs": [
    {
     "data": {
      "text/html": [
       "<div>\n",
       "<style scoped>\n",
       "    .dataframe tbody tr th:only-of-type {\n",
       "        vertical-align: middle;\n",
       "    }\n",
       "\n",
       "    .dataframe tbody tr th {\n",
       "        vertical-align: top;\n",
       "    }\n",
       "\n",
       "    .dataframe thead th {\n",
       "        text-align: right;\n",
       "    }\n",
       "</style>\n",
       "<table border=\"1\" class=\"dataframe\">\n",
       "  <thead>\n",
       "    <tr style=\"text-align: right;\">\n",
       "      <th></th>\n",
       "      <th>index</th>\n",
       "      <th>TEAM</th>\n",
       "      <th>Number of players</th>\n",
       "    </tr>\n",
       "  </thead>\n",
       "  <tbody>\n",
       "    <tr>\n",
       "      <th>0</th>\n",
       "      <td>9</td>\n",
       "      <td>Brunei Darussalam</td>\n",
       "      <td>7</td>\n",
       "    </tr>\n",
       "    <tr>\n",
       "      <th>1</th>\n",
       "      <td>58</td>\n",
       "      <td>St Kitts &amp; Nevis</td>\n",
       "      <td>6</td>\n",
       "    </tr>\n",
       "    <tr>\n",
       "      <th>2</th>\n",
       "      <td>30</td>\n",
       "      <td>Kiribati</td>\n",
       "      <td>6</td>\n",
       "    </tr>\n",
       "    <tr>\n",
       "      <th>3</th>\n",
       "      <td>37</td>\n",
       "      <td>Montserrat</td>\n",
       "      <td>5</td>\n",
       "    </tr>\n",
       "    <tr>\n",
       "      <th>4</th>\n",
       "      <td>67</td>\n",
       "      <td>Tuvalu</td>\n",
       "      <td>5</td>\n",
       "    </tr>\n",
       "  </tbody>\n",
       "</table>\n",
       "</div>"
      ],
      "text/plain": [
       "   index               TEAM  Number of players\n",
       "0      9  Brunei Darussalam                  7\n",
       "1     58   St Kitts & Nevis                  6\n",
       "2     30           Kiribati                  6\n",
       "3     37         Montserrat                  5\n",
       "4     67             Tuvalu                  5"
      ]
     },
     "execution_count": 17,
     "metadata": {},
     "output_type": "execute_result"
    }
   ],
   "source": [
    "# 5. Which country has least number of players?\n",
    "pl.sort_values(by='Number of players',ascending=False).tail().reset_index()"
   ]
  },
  {
   "cell_type": "code",
   "execution_count": 31,
   "id": "9101d38a",
   "metadata": {},
   "outputs": [
    {
     "name": "stdout",
     "output_type": "stream",
     "text": [
      "                                    SPORT  players per game\n",
      "4            Athletics and Para Athletics               902\n",
      "3   Aquatics - Swimming and Para Swimming               454\n",
      "14                                 Hockey               360\n",
      "19                           Rugby Sevens               314\n",
      "10                         Cycling - Road               290\n",
      "7                                  Boxing               241\n",
      "16         Lawn Bowls and Para Lawn Bowls               228\n",
      "21     Table Tennis and Para Table Tennis               191\n",
      "23                          Weightlifting               178\n",
      "15                                   Judo               160\n",
      "5                               Badminton               151\n",
      "17                                Netball               144\n",
      "24                              Wrestling               121\n",
      "22           Triathlon and Para Triathlon               120\n",
      "8                             Cricket T20               120\n",
      "20                                 Squash               111\n",
      "12                  Gymnastics - Artistic               104\n",
      "2                       Aquatics - Diving                75\n",
      "0                          3x3 Basketball                64\n",
      "6                        Beach Volleyball                48\n",
      "1               3x3 Wheelchair Basketball                47\n",
      "11         Cycling - Track and Para Track                41\n",
      "18                      Para Powerlifting                37\n",
      "13                  Gymnastics - Rhythmic                29\n",
      "9                 Cycling - Mountain Bike                 3\n"
     ]
    }
   ],
   "source": [
    "# 6 & 7. Which game has most number of participants?\n",
    "pl=data.groupby([\"SPORT\"]).size().reset_index(name='players per game')\n",
    "print(pl.sort_values(by='players per game',ascending=False))"
   ]
  },
  {
   "cell_type": "code",
   "execution_count": 96,
   "id": "0d8d942e",
   "metadata": {
    "scrolled": true
   },
   "outputs": [
    {
     "name": "stdout",
     "output_type": "stream",
     "text": [
      "     TEAM  Number of players\n",
      "25  India                216\n"
     ]
    },
    {
     "data": {
      "text/plain": [
       "<matplotlib.patches.Circle at 0x21eb6eb0790>"
      ]
     },
     "execution_count": 96,
     "metadata": {},
     "output_type": "execute_result"
    },
    {
     "data": {
      "image/png": "[encoded data removed]",
      "text/plain": [
       "<Figure size 432x288 with 1 Axes>"
      ]
     },
     "metadata": {},
     "output_type": "display_data"
    }
   ],
   "source": [
    "# 8. How many Indian players participated in commonwelth games 2022?\n",
    "pl=data.groupby([\"TEAM\"]).size().reset_index(name='Number of players')\n",
    "ind=pl[pl[\"TEAM\"]==\"India\"]\n",
    "t=ind[\"Number of players\"]\n",
    "print(ind)\n",
    "\n",
    "# donut pie chart\n",
    "plt.pie([t,50],labels=[\"INDIA\",\"\"], colors=['blue','white'])\n",
    "my_circle=plt.Circle( (0,0), 0.7, color='white')\n",
    "p=plt.gcf()\n",
    "p.gca().add_artist(my_circle)"
   ]
  },
  {
   "cell_type": "code",
   "execution_count": 124,
   "id": "c9f08dc8",
   "metadata": {},
   "outputs": [
    {
     "name": "stdout",
     "output_type": "stream",
     "text": [
      "   GENDER  Total\n",
      "0  Female    106\n",
      "1    Male    110\n"
     ]
    },
    {
     "data": {
      "text/plain": [
       "<matplotlib.patches.Circle at 0x21eb8f30c10>"
      ]
     },
     "execution_count": 124,
     "metadata": {},
     "output_type": "execute_result"
    },
    {
     "data": {
      "image/png": "[encoded data removed]",
      "text/plain": [
       "<Figure size 432x288 with 1 Axes>"
      ]
     },
     "metadata": {},
     "output_type": "display_data"
    }
   ],
   "source": [
    "# 9. How many male and female players participated from India? (GRAPH : pie chart)\n",
    "indg=data[data[\"TEAM\"]==\"India\"][\"GENDER\"]\n",
    "dg=indg.groupby(indg).size().reset_index(name='Total')\n",
    "print(dg)\n",
    "\n",
    "# Graphical\n",
    "plt.pie(dg[\"Total\"],labels=[\"Female\",\"Male\"], colors=['orange',\"navy\"])\n",
    "my_circle=plt.Circle( (0,0), 0.7, color='white')\n",
    "p=plt.gcf()\n",
    "p.gca().add_artist(my_circle)"
   ]
  },
  {
   "cell_type": "code",
   "execution_count": 115,
   "id": "4f4f53d6",
   "metadata": {},
   "outputs": [
    {
     "name": "stdout",
     "output_type": "stream",
     "text": [
      "['Aquatics - Swimming and Para Swimming' 'Athletics and Para Athletics'\n",
      " 'Badminton' 'Boxing' 'Cricket T20' 'Cycling - Road'\n",
      " 'Cycling - Track and Para Track' 'Gymnastics - Artistic'\n",
      " 'Gymnastics - Rhythmic' 'Hockey' 'Judo' 'Lawn Bowls and Para Lawn Bowls'\n",
      " 'Para Powerlifting' 'Squash' 'Table Tennis and Para Table Tennis'\n",
      " 'Triathlon and Para Triathlon' 'Weightlifting' 'Wrestling']\n"
     ]
    }
   ],
   "source": [
    "# 10. List the games India participated?\n",
    "indg=data[data[\"TEAM\"]==\"India\"][\"SPORT\"]\n",
    "print(indg.unique())"
   ]
  },
  {
   "cell_type": "code",
   "execution_count": 131,
   "id": "0945a6ef",
   "metadata": {},
   "outputs": [
    {
     "data": {
      "text/plain": [
       "411     Suyash NarayanJadhav\n",
       "412         NiranjanMukundan\n",
       "413           SrihariNataraj\n",
       "414               AdvaitPage\n",
       "415             SajanPrakash\n",
       "                ...         \n",
       "4456              MohitMohit\n",
       "4457            NaveenNaveen\n",
       "4458              PoojaPooja\n",
       "4459             DeepakPunia\n",
       "4460            VineshVinesh\n",
       "Name: ATHLETE NAME\\t, Length: 216, dtype: object"
      ]
     },
     "execution_count": 131,
     "metadata": {},
     "output_type": "execute_result"
    }
   ],
   "source": [
    "# 11. list the player names from India.\n",
    "data[data[\"TEAM\"]==\"India\"][\"ATHLETE NAME\\t\"]"
   ]
  },
  {
   "cell_type": "code",
   "execution_count": 135,
   "id": "f667ed55",
   "metadata": {},
   "outputs": [
    {
     "data": {
      "text/html": [
       "<div>\n",
       "<style scoped>\n",
       "    .dataframe tbody tr th:only-of-type {\n",
       "        vertical-align: middle;\n",
       "    }\n",
       "\n",
       "    .dataframe tbody tr th {\n",
       "        vertical-align: top;\n",
       "    }\n",
       "\n",
       "    .dataframe thead th {\n",
       "        text-align: right;\n",
       "    }\n",
       "</style>\n",
       "<table border=\"1\" class=\"dataframe\">\n",
       "  <thead>\n",
       "    <tr style=\"text-align: right;\">\n",
       "      <th></th>\n",
       "      <th>ATHLETE NAME</th>\n",
       "      <th>TEAM</th>\n",
       "      <th>SPORT</th>\n",
       "      <th>EVENT</th>\n",
       "      <th>MEDAL</th>\n",
       "      <th>CONTINENT</th>\n",
       "    </tr>\n",
       "  </thead>\n",
       "  <tbody>\n",
       "    <tr>\n",
       "      <th>0</th>\n",
       "      <td>Greg Hire</td>\n",
       "      <td>Australia</td>\n",
       "      <td>3x3 Basketball</td>\n",
       "      <td>Men</td>\n",
       "      <td>S</td>\n",
       "      <td>Australia&amp; Oceania</td>\n",
       "    </tr>\n",
       "    <tr>\n",
       "      <th>1</th>\n",
       "      <td>Daniel Geoffrey Craig Johnson</td>\n",
       "      <td>Australia</td>\n",
       "      <td>3x3 Basketball</td>\n",
       "      <td>Men</td>\n",
       "      <td>S</td>\n",
       "      <td>Australia&amp; Oceania</td>\n",
       "    </tr>\n",
       "    <tr>\n",
       "      <th>2</th>\n",
       "      <td>Lauren Mansfield</td>\n",
       "      <td>Australia</td>\n",
       "      <td>3x3 Basketball</td>\n",
       "      <td>Women</td>\n",
       "      <td>B</td>\n",
       "      <td>Australia&amp; Oceania</td>\n",
       "    </tr>\n",
       "    <tr>\n",
       "      <th>3</th>\n",
       "      <td>Lauren Scherf</td>\n",
       "      <td>Australia</td>\n",
       "      <td>3x3 Basketball</td>\n",
       "      <td>Women</td>\n",
       "      <td>B</td>\n",
       "      <td>Australia&amp; Oceania</td>\n",
       "    </tr>\n",
       "    <tr>\n",
       "      <th>4</th>\n",
       "      <td>Jesse Wagstaff</td>\n",
       "      <td>Australia</td>\n",
       "      <td>3x3 Basketball</td>\n",
       "      <td>Men</td>\n",
       "      <td>S</td>\n",
       "      <td>Australia&amp; Oceania</td>\n",
       "    </tr>\n",
       "    <tr>\n",
       "      <th>...</th>\n",
       "      <td>...</td>\n",
       "      <td>...</td>\n",
       "      <td>...</td>\n",
       "      <td>...</td>\n",
       "      <td>...</td>\n",
       "      <td>...</td>\n",
       "    </tr>\n",
       "    <tr>\n",
       "      <th>1553</th>\n",
       "      <td>Olivia Mathias</td>\n",
       "      <td>Wales</td>\n",
       "      <td>Triathlon and Para Triathlon</td>\n",
       "      <td>Mixed Team Relay</td>\n",
       "      <td>S</td>\n",
       "      <td>Europe</td>\n",
       "    </tr>\n",
       "    <tr>\n",
       "      <th>1554</th>\n",
       "      <td>Non Stanford</td>\n",
       "      <td>Wales</td>\n",
       "      <td>Triathlon and Para Triathlon</td>\n",
       "      <td>Mixed Team Relay</td>\n",
       "      <td>S</td>\n",
       "      <td>Europe</td>\n",
       "    </tr>\n",
       "    <tr>\n",
       "      <th>1555</th>\n",
       "      <td>Muzala Samukonga</td>\n",
       "      <td>Zambia</td>\n",
       "      <td>Athletics and Para Athletics</td>\n",
       "      <td>Men's 400m</td>\n",
       "      <td>G</td>\n",
       "      <td>Africa</td>\n",
       "    </tr>\n",
       "    <tr>\n",
       "      <th>1556</th>\n",
       "      <td>Patrick Chinyemba</td>\n",
       "      <td>Zambia</td>\n",
       "      <td>Boxing</td>\n",
       "      <td>Men’s Over 48kg-51kg (Flyweight)</td>\n",
       "      <td>B</td>\n",
       "      <td>Africa</td>\n",
       "    </tr>\n",
       "    <tr>\n",
       "      <th>1557</th>\n",
       "      <td>Stephen Zimba</td>\n",
       "      <td>Zambia</td>\n",
       "      <td>Boxing</td>\n",
       "      <td>Men’s Over 63.5kg-67kg (Welterweight)</td>\n",
       "      <td>S</td>\n",
       "      <td>Africa</td>\n",
       "    </tr>\n",
       "  </tbody>\n",
       "</table>\n",
       "<p>1558 rows × 6 columns</p>\n",
       "</div>"
      ],
      "text/plain": [
       "                       ATHLETE NAME       TEAM                         SPORT  \\\n",
       "0                         Greg Hire  Australia                3x3 Basketball   \n",
       "1     Daniel Geoffrey Craig Johnson  Australia                3x3 Basketball   \n",
       "2                  Lauren Mansfield  Australia                3x3 Basketball   \n",
       "3                     Lauren Scherf  Australia                3x3 Basketball   \n",
       "4                    Jesse Wagstaff  Australia                3x3 Basketball   \n",
       "...                             ...        ...                           ...   \n",
       "1553                 Olivia Mathias      Wales  Triathlon and Para Triathlon   \n",
       "1554                   Non Stanford      Wales  Triathlon and Para Triathlon   \n",
       "1555               Muzala Samukonga     Zambia  Athletics and Para Athletics   \n",
       "1556              Patrick Chinyemba     Zambia                        Boxing   \n",
       "1557                  Stephen Zimba     Zambia                        Boxing   \n",
       "\n",
       "                                      EVENT MEDAL           CONTINENT  \n",
       "0                                       Men     S  Australia& Oceania  \n",
       "1                                       Men     S  Australia& Oceania  \n",
       "2                                     Women     B  Australia& Oceania  \n",
       "3                                     Women     B  Australia& Oceania  \n",
       "4                                       Men     S  Australia& Oceania  \n",
       "...                                     ...   ...                 ...  \n",
       "1553                       Mixed Team Relay     S              Europe  \n",
       "1554                       Mixed Team Relay     S              Europe  \n",
       "1555                             Men's 400m     G              Africa  \n",
       "1556       Men’s Over 48kg-51kg (Flyweight)     B              Africa  \n",
       "1557  Men’s Over 63.5kg-67kg (Welterweight)     S              Africa  \n",
       "\n",
       "[1558 rows x 6 columns]"
      ]
     },
     "execution_count": 135,
     "metadata": {},
     "output_type": "execute_result"
    }
   ],
   "source": [
    "# data set change - medals.csv\n",
    "\n",
    "data=pd.read_csv('medals.csv')\n",
    "data"
   ]
  },
  {
   "cell_type": "code",
   "execution_count": 196,
   "id": "ac00bd03",
   "metadata": {},
   "outputs": [
    {
     "name": "stdout",
     "output_type": "stream",
     "text": [
      "0       Australia\n",
      "9         England\n",
      "6          Canada\n",
      "14          India\n",
      "23    New Zealand\n",
      "Name: TEAM, dtype: object\n"
     ]
    },
    {
     "data": {
      "image/png": "[encoded data removed]",
      "text/plain": [
       "<Figure size 432x288 with 1 Axes>"
      ]
     },
     "metadata": {},
     "output_type": "display_data"
    }
   ],
   "source": [
    "# 11. Which contory wons most number of medals? (GRAPH : histogram, piechart)\n",
    "tm=data.groupby([\"TEAM\"]).size().reset_index(name='MEDALS')\n",
    "tm=tm.sort_values(by=\"MEDALS\",ascending=False).head()\n",
    "print(tm[\"TEAM\"])\n",
    "\n",
    "# graphs\n",
    "#pie\n",
    "plt.pie(tm[\"MEDALS\"],labels=tm[\"TEAM\"])\n",
    "plt.show()"
   ]
  },
  {
   "cell_type": "code",
   "execution_count": 240,
   "id": "64617f81",
   "metadata": {},
   "outputs": [
    {
     "name": "stdout",
     "output_type": "stream",
     "text": [
      "SPORT\n",
      "Athletics and Para Athletics          1\n",
      "Badminton                             4\n",
      "Boxing                                3\n",
      "Lawn Bowls and Para Lawn Bowls        4\n",
      "Para Powerlifting                     1\n",
      "Table Tennis and Para Table Tennis    8\n",
      "Weightlifting                         3\n",
      "Wrestling                             6\n",
      "dtype: int64\n"
     ]
    }
   ],
   "source": [
    "# 13. list the games india won gold medals\n",
    "ind=data[(data[\"TEAM\"]==\"India\")&(data[\"MEDAL\"]==\"G\")]\n",
    "print(ind.groupby([\"SPORT\"]).size())"
   ]
  },
  {
   "cell_type": "code",
   "execution_count": 219,
   "id": "2d5b61ba",
   "metadata": {},
   "outputs": [
    {
     "name": "stdout",
     "output_type": "stream",
     "text": [
      "0      Australia\n",
      "1        England\n",
      "2         Canada\n",
      "3          India\n",
      "4    New Zealand\n",
      "Name: TEAM, dtype: object\n"
     ]
    },
    {
     "data": {
      "image/png": "[encoded data removed]",
      "text/plain": [
       "<Figure size 432x288 with 1 Axes>"
      ]
     },
     "metadata": {},
     "output_type": "display_data"
    }
   ],
   "source": [
    "# 14.  Which contory wons most number of Gold medals?\n",
    "gold=data[[\"TEAM\",\"MEDAL\"]]\n",
    "gold=data[data[\"MEDAL\"]==\"G\"][\"TEAM\"]\n",
    "gold1=gold.groupby(gold).size().sort_values(ascending=False).head().reset_index(name=\"Total\")\n",
    "print(gold1[\"TEAM\"])\n",
    "\n",
    "# graph\n",
    "plt.pie(gold1[\"Total\"],labels=gold1[\"TEAM\"])\n",
    "plt.show()"
   ]
  },
  {
   "cell_type": "code",
   "execution_count": 236,
   "id": "b0d4f154",
   "metadata": {},
   "outputs": [
    {
     "name": "stdout",
     "output_type": "stream",
     "text": [
      "GOLD WINNER : \n",
      "889                     Eldhose Paul\n",
      "903           Venkata Sindhu Pusarla\n",
      "906         Satwik Sairaj Rankireddy\n",
      "909                      Lakshya Sen\n",
      "911     Chirag Chandrashekhar Shetty\n",
      "912                             AMIT\n",
      "915                    Zareen Nikhat\n",
      "916                        Nitu Nitu\n",
      "974                   Lovely Choubey\n",
      "976                       null Pinki\n",
      "977                 Nayanmoni Saikia\n",
      "980                 Rupa Rani Tirkey\n",
      "981                         . Sudhir\n",
      "985            Sharath Kamal Achanta\n",
      "986            Sharath Kamal Achanta\n",
      "988            Sharath Kamal Achanta\n",
      "989                     Sreeja Akula\n",
      "990                    Harmeet Desai\n",
      "993            Sathiyan Gnanasekaran\n",
      "995        Bhavina Hasmukhbhai Patel\n",
      "996                     Sanil Shetty\n",
      "999               Lalrinnunga Jeremy\n",
      "1002           Chanu Saikhom Mirabai\n",
      "1004                  Achinta Sheuli\n",
      "1010                    Sakshi Malik\n",
      "1012                   Naveen Naveen\n",
      "1014                   Vinesh Phogat\n",
      "1015                    Deepak Punia\n",
      "1016                   Bajrang Punia\n",
      "1017                      Kumar Ravi\n",
      "Name: ATHLETE NAME, dtype: object\n",
      "SILVER WINNER : \n",
      "888     Abdulla Aboobacker Narangolintevida\n",
      "890                                Priyanka\n",
      "892                    Avinash Mukund Sable\n",
      "894                 Sreeshankar Sreeshankar\n",
      "895                            Treesa Jolly\n",
      "897                        Aakarshi Kashyap\n",
      "899              Srikanth Nammalwar Kidambi\n",
      "900             Ashwini Machimanda Ponnappa\n",
      "902               Gayatri Gopichand Pullela\n",
      "904                  Venkata Sindhu Pusarla\n",
      "905                Satwik Sairaj Rankireddy\n",
      "907                         B.sumeeth Reddy\n",
      "908                             Lakshya Sen\n",
      "910            Chirag Chandrashekhar Shetty\n",
      "917                             Sagar Sagar\n",
      "919                          Yastika Bhatia\n",
      "920                          Taniyaa Bhatia\n",
      "921                            Harleen Deol\n",
      "922                     Rajeshwari Gayakwad\n",
      "923                        Harmanpreet Kaur\n",
      "924                         Smriti Mandhana\n",
      "925                       Sabbineni Meghana\n",
      "926                               Sneh Rana\n",
      "927                       Jemimah Rodrigues\n",
      "928                           Deepti Sharma\n",
      "929                            Meghna Singh\n",
      "930                     Renuka Singh Thakur\n",
      "931                         Pooja Vastrakar\n",
      "932                           Shafali Verma\n",
      "933                             Radha Yadav\n",
      "934                           null Abhishek\n",
      "942                     null Kumar Surender\n",
      "943                        null Kumar Varun\n",
      "949             Sreejesh Parattu Raveendran\n",
      "950                  Krishan Bahadur Pathak\n",
      "952                      Vivek Sagar Prasad\n",
      "954                            Amit Rohidas\n",
      "956                        Nilakanta Sharma\n",
      "957                    null Singh Akashdeep\n",
      "958                      null Singh Gurjant\n",
      "959                       null Singh Hardik\n",
      "960                  null Singh Harmanpreet\n",
      "961                  null Singh Jarmanpreet\n",
      "962                       null Singh Jugraj\n",
      "963                      null Singh Mandeep\n",
      "964                     null Singh Manpreet\n",
      "965                     null Singh Shamsher\n",
      "969                    Lalit Kumar Upadhyay\n",
      "970                  Shushila Devi Likmabam\n",
      "971                             Tulika Maan\n",
      "973                           Sunil Bahadur\n",
      "975                            Dinesh Kumar\n",
      "978                           Navneet Singh\n",
      "979                     Chandan Kumar Singh\n",
      "987                   Sharath Kamal Achanta\n",
      "992                   Sathiyan Gnanasekaran\n",
      "1003                  Sanket Mahadev Sargar\n",
      "1005            Bindyarani Devi Sorokhaibam\n",
      "1006                           Vikas Thakur\n",
      "1011                            Anshu Malik\n",
      "Name: ATHLETE NAME, dtype: object\n",
      "BRONZE WINNER : \n",
      "887                  Sandeep Kumar\n",
      "891                      Annu Rani\n",
      "893               Tejaswin Shankar\n",
      "896                   Treesa Jolly\n",
      "898     Srikanth Nammalwar Kidambi\n",
      "901      Gayatri Gopichand Pullela\n",
      "913              Jaismine Jaismine\n",
      "914          Hussam Uddin Mohammed\n",
      "918                    Rohit Tokas\n",
      "935             null Devi Sharmila\n",
      "936                Deep Grace Ekka\n",
      "937                Rajani Etimarpu\n",
      "938                     null Jyoti\n",
      "939               Vandana Katariya\n",
      "940               null Kaur Gurjit\n",
      "941              null Kaur Navneet\n",
      "944                 Sangita Kumari\n",
      "945               null Lalremsiami\n",
      "946                    null Monika\n",
      "947                      null Neha\n",
      "948                     null Nisha\n",
      "951                  Nikki Pradhan\n",
      "953       Sushila Chanu Pukhrambam\n",
      "955                    null Savita\n",
      "966                    null Sonika\n",
      "967                    Salima Tete\n",
      "968                     null Udita\n",
      "972              Vijay Kumar Yadav\n",
      "982                  Saurav Ghosal\n",
      "983                  Saurav Ghosal\n",
      "984        Dipika Pallikal Karthik\n",
      "991          Sathiyan Gnanasekaran\n",
      "994        Sonalben Manubhai Patel\n",
      "997                  Singh Gurdeep\n",
      "998              Gururaja Gururaja\n",
      "1000                Harjinder Kaur\n",
      "1001               Singh Lovepreet\n",
      "1007                  Pooja Gehlot\n",
      "1008                  Mohit Grewal\n",
      "1009                  Divya Kakran\n",
      "1013                  Deepak Nehra\n",
      "1018                   Pooja Sihag\n",
      "Name: ATHLETE NAME, dtype: object\n"
     ]
    }
   ],
   "source": [
    "# 15. List the all Indian player won medal with demal color.\n",
    "print(\"GOLD WINNER : \\n\",data[(data[\"TEAM\"]==\"India\")&(data[\"MEDAL\"]==\"G\")][\"ATHLETE NAME\"],sep=\"\")\n",
    "print(\"SILVER WINNER : \\n\",data[(data[\"TEAM\"]==\"India\")&(data[\"MEDAL\"]==\"S\")][\"ATHLETE NAME\"],sep=\"\")\n",
    "print(\"BRONZE WINNER : \\n\",data[(data[\"TEAM\"]==\"India\")&(data[\"MEDAL\"]==\"B\")][\"ATHLETE NAME\"],sep=\"\")\n"
   ]
  },
  {
   "cell_type": "code",
   "execution_count": 243,
   "id": "4bc43b2f",
   "metadata": {},
   "outputs": [
    {
     "data": {
      "text/html": [
       "<div>\n",
       "<style scoped>\n",
       "    .dataframe tbody tr th:only-of-type {\n",
       "        vertical-align: middle;\n",
       "    }\n",
       "\n",
       "    .dataframe tbody tr th {\n",
       "        vertical-align: top;\n",
       "    }\n",
       "\n",
       "    .dataframe thead th {\n",
       "        text-align: right;\n",
       "    }\n",
       "</style>\n",
       "<table border=\"1\" class=\"dataframe\">\n",
       "  <thead>\n",
       "    <tr style=\"text-align: right;\">\n",
       "      <th></th>\n",
       "      <th>ATHLETE NAME</th>\n",
       "      <th>TEAM</th>\n",
       "      <th>SPORT</th>\n",
       "      <th>EVENT</th>\n",
       "      <th>MEDAL</th>\n",
       "      <th>CONTINENT</th>\n",
       "    </tr>\n",
       "  </thead>\n",
       "  <tbody>\n",
       "    <tr>\n",
       "      <th>919</th>\n",
       "      <td>Yastika Bhatia</td>\n",
       "      <td>India</td>\n",
       "      <td>Cricket T20</td>\n",
       "      <td>Cricket T20</td>\n",
       "      <td>S</td>\n",
       "      <td>Asia</td>\n",
       "    </tr>\n",
       "    <tr>\n",
       "      <th>920</th>\n",
       "      <td>Taniyaa Bhatia</td>\n",
       "      <td>India</td>\n",
       "      <td>Cricket T20</td>\n",
       "      <td>Cricket T20</td>\n",
       "      <td>S</td>\n",
       "      <td>Asia</td>\n",
       "    </tr>\n",
       "    <tr>\n",
       "      <th>921</th>\n",
       "      <td>Harleen Deol</td>\n",
       "      <td>India</td>\n",
       "      <td>Cricket T20</td>\n",
       "      <td>Cricket T20</td>\n",
       "      <td>S</td>\n",
       "      <td>Asia</td>\n",
       "    </tr>\n",
       "    <tr>\n",
       "      <th>922</th>\n",
       "      <td>Rajeshwari Gayakwad</td>\n",
       "      <td>India</td>\n",
       "      <td>Cricket T20</td>\n",
       "      <td>Cricket T20</td>\n",
       "      <td>S</td>\n",
       "      <td>Asia</td>\n",
       "    </tr>\n",
       "    <tr>\n",
       "      <th>923</th>\n",
       "      <td>Harmanpreet Kaur</td>\n",
       "      <td>India</td>\n",
       "      <td>Cricket T20</td>\n",
       "      <td>Cricket T20</td>\n",
       "      <td>S</td>\n",
       "      <td>Asia</td>\n",
       "    </tr>\n",
       "    <tr>\n",
       "      <th>924</th>\n",
       "      <td>Smriti Mandhana</td>\n",
       "      <td>India</td>\n",
       "      <td>Cricket T20</td>\n",
       "      <td>Cricket T20</td>\n",
       "      <td>S</td>\n",
       "      <td>Asia</td>\n",
       "    </tr>\n",
       "    <tr>\n",
       "      <th>925</th>\n",
       "      <td>Sabbineni Meghana</td>\n",
       "      <td>India</td>\n",
       "      <td>Cricket T20</td>\n",
       "      <td>Cricket T20</td>\n",
       "      <td>S</td>\n",
       "      <td>Asia</td>\n",
       "    </tr>\n",
       "    <tr>\n",
       "      <th>926</th>\n",
       "      <td>Sneh Rana</td>\n",
       "      <td>India</td>\n",
       "      <td>Cricket T20</td>\n",
       "      <td>Cricket T20</td>\n",
       "      <td>S</td>\n",
       "      <td>Asia</td>\n",
       "    </tr>\n",
       "    <tr>\n",
       "      <th>927</th>\n",
       "      <td>Jemimah Rodrigues</td>\n",
       "      <td>India</td>\n",
       "      <td>Cricket T20</td>\n",
       "      <td>Cricket T20</td>\n",
       "      <td>S</td>\n",
       "      <td>Asia</td>\n",
       "    </tr>\n",
       "    <tr>\n",
       "      <th>928</th>\n",
       "      <td>Deepti Sharma</td>\n",
       "      <td>India</td>\n",
       "      <td>Cricket T20</td>\n",
       "      <td>Cricket T20</td>\n",
       "      <td>S</td>\n",
       "      <td>Asia</td>\n",
       "    </tr>\n",
       "    <tr>\n",
       "      <th>929</th>\n",
       "      <td>Meghna Singh</td>\n",
       "      <td>India</td>\n",
       "      <td>Cricket T20</td>\n",
       "      <td>Cricket T20</td>\n",
       "      <td>S</td>\n",
       "      <td>Asia</td>\n",
       "    </tr>\n",
       "    <tr>\n",
       "      <th>930</th>\n",
       "      <td>Renuka Singh Thakur</td>\n",
       "      <td>India</td>\n",
       "      <td>Cricket T20</td>\n",
       "      <td>Cricket T20</td>\n",
       "      <td>S</td>\n",
       "      <td>Asia</td>\n",
       "    </tr>\n",
       "    <tr>\n",
       "      <th>931</th>\n",
       "      <td>Pooja Vastrakar</td>\n",
       "      <td>India</td>\n",
       "      <td>Cricket T20</td>\n",
       "      <td>Cricket T20</td>\n",
       "      <td>S</td>\n",
       "      <td>Asia</td>\n",
       "    </tr>\n",
       "    <tr>\n",
       "      <th>932</th>\n",
       "      <td>Shafali Verma</td>\n",
       "      <td>India</td>\n",
       "      <td>Cricket T20</td>\n",
       "      <td>Cricket T20</td>\n",
       "      <td>S</td>\n",
       "      <td>Asia</td>\n",
       "    </tr>\n",
       "    <tr>\n",
       "      <th>933</th>\n",
       "      <td>Radha Yadav</td>\n",
       "      <td>India</td>\n",
       "      <td>Cricket T20</td>\n",
       "      <td>Cricket T20</td>\n",
       "      <td>S</td>\n",
       "      <td>Asia</td>\n",
       "    </tr>\n",
       "  </tbody>\n",
       "</table>\n",
       "</div>"
      ],
      "text/plain": [
       "            ATHLETE NAME   TEAM        SPORT        EVENT MEDAL CONTINENT\n",
       "919       Yastika Bhatia  India  Cricket T20  Cricket T20     S      Asia\n",
       "920       Taniyaa Bhatia  India  Cricket T20  Cricket T20     S      Asia\n",
       "921         Harleen Deol  India  Cricket T20  Cricket T20     S      Asia\n",
       "922  Rajeshwari Gayakwad  India  Cricket T20  Cricket T20     S      Asia\n",
       "923     Harmanpreet Kaur  India  Cricket T20  Cricket T20     S      Asia\n",
       "924      Smriti Mandhana  India  Cricket T20  Cricket T20     S      Asia\n",
       "925    Sabbineni Meghana  India  Cricket T20  Cricket T20     S      Asia\n",
       "926            Sneh Rana  India  Cricket T20  Cricket T20     S      Asia\n",
       "927    Jemimah Rodrigues  India  Cricket T20  Cricket T20     S      Asia\n",
       "928        Deepti Sharma  India  Cricket T20  Cricket T20     S      Asia\n",
       "929         Meghna Singh  India  Cricket T20  Cricket T20     S      Asia\n",
       "930  Renuka Singh Thakur  India  Cricket T20  Cricket T20     S      Asia\n",
       "931      Pooja Vastrakar  India  Cricket T20  Cricket T20     S      Asia\n",
       "932        Shafali Verma  India  Cricket T20  Cricket T20     S      Asia\n",
       "933          Radha Yadav  India  Cricket T20  Cricket T20     S      Asia"
      ]
     },
     "execution_count": 243,
     "metadata": {},
     "output_type": "execute_result"
    }
   ],
   "source": [
    "# 16. list the indian women cricket team players.\n",
    "data[(data[\"TEAM\"]==\"India\")&(data[\"SPORT\"]==\"Cricket T20\")]"
   ]
  },
  {
   "cell_type": "code",
   "execution_count": null,
   "id": "41bb3d8a",
   "metadata": {},
   "outputs": [],
   "source": []
  }
 ],
 "metadata": {
  "kernelspec": {
   "display_name": "Python 3 (ipykernel)",
   "language": "python",
   "name": "python3"
  },
  "language_info": {
   "codemirror_mode": {
    "name": "ipython",
    "version": 3
   },
   "file_extension": ".py",
   "mimetype": "text/x-python",
   "name": "python",
   "nbconvert_exporter": "python",
   "pygments_lexer": "ipython3",
   "version": "3.10.5"
  }
 },
 "nbformat": 4,
 "nbformat_minor": 5
}
